{
 "cells": [
  {
   "cell_type": "markdown",
   "id": "43e17ff0",
   "metadata": {},
   "source": [
    "# Setup"
   ]
  },
  {
   "cell_type": "markdown",
   "id": "18ddd91a",
   "metadata": {},
   "source": [
    "## Imports"
   ]
  },
  {
   "cell_type": "code",
   "execution_count": null,
   "id": "c26291eb-9d3f-4bab-a44e-b53819d13a29",
   "metadata": {},
   "outputs": [],
   "source": [
    "import os\n",
    "import string\n",
    "import pickle\n",
    "import openai\n",
    "from IPython.display import clear_output"
   ]
  },
  {
   "cell_type": "markdown",
   "id": "ebfb1d9a-50a3-4f80-81e1-9c871fa278d0",
   "metadata": {},
   "source": [
    "## API keys"
   ]
  },
  {
   "cell_type": "code",
   "execution_count": null,
   "id": "68ce6b39-e190-41f6-a156-93fb6dcffb66",
   "metadata": {},
   "outputs": [],
   "source": [
    "OPENAI_API_KEY = os.getenv(\"OPENAI_API_KEY\")\n",
    "OPENAI_ORG_KEY = os.getenv(\"OPENAI_ORG_KEY\")"
   ]
  },
  {
   "cell_type": "markdown",
   "id": "986bbdc6",
   "metadata": {},
   "source": [
    "## Settings"
   ]
  },
  {
   "cell_type": "code",
   "execution_count": null,
   "id": "c5ce20b6",
   "metadata": {},
   "outputs": [],
   "source": [
    "model = \"gpt-4\"\n",
    "temperature = 1.0\n",
    "out_dir_name = \"output\""
   ]
  },
  {
   "cell_type": "markdown",
   "id": "6cfc87df-7c45-402f-9594-60a415988a6a",
   "metadata": {},
   "source": [
    "## Preamble"
   ]
  },
  {
   "cell_type": "code",
   "execution_count": null,
   "id": "54898a86-5cc4-4ff5-86bf-66f5a01c7a11",
   "metadata": {},
   "outputs": [],
   "source": [
    "sys_prompt = []"
   ]
  },
  {
   "cell_type": "code",
   "execution_count": null,
   "id": "f2b6e618-7d84-4ce2-8430-1c3d9ffbe3e9",
   "metadata": {},
   "outputs": [],
   "source": [
    "example_interactions = []"
   ]
  },
  {
   "cell_type": "code",
   "execution_count": null,
   "id": "1017999d",
   "metadata": {},
   "outputs": [],
   "source": [
    "memory = []\n",
    "memory += sys_prompt\n",
    "memory += example_interactions"
   ]
  },
  {
   "cell_type": "markdown",
   "id": "0299a383",
   "metadata": {},
   "source": [
    "# Utility functions"
   ]
  },
  {
   "cell_type": "code",
   "execution_count": null,
   "id": "cfcb8bd7",
   "metadata": {},
   "outputs": [],
   "source": [
    "def pretty_parse(memory_: list)-> str: \n",
    "    out_string = \"\"\n",
    "    for turn in memory_:\n",
    "        out_string += f\"{turn['role'].capitalize()}: {turn['content']}\\n\"\n",
    "    return out_string"
   ]
  },
  {
   "cell_type": "code",
   "execution_count": null,
   "id": "45a10302",
   "metadata": {},
   "outputs": [],
   "source": [
    "def prompt_LLM(memory_: list) -> str:\n",
    "    raw_response_ = openai.ChatCompletion.create(\n",
    "        model=model,\n",
    "        messages=memory_,\n",
    "        temperature=temperature\n",
    "        )\n",
    "    response_ = raw_response_[\"choices\"][0][\"message\"][\"content\"]\n",
    "    return response_"
   ]
  },
  {
   "cell_type": "markdown",
   "id": "abbe84b3",
   "metadata": {},
   "source": [
    "# Run inference"
   ]
  },
  {
   "cell_type": "code",
   "execution_count": null,
   "id": "0961b3f8",
   "metadata": {},
   "outputs": [],
   "source": [
    "prompt = \"A cube with edge length 1 meter.\" # Type out the user prompt here"
   ]
  },
  {
   "cell_type": "code",
   "execution_count": null,
   "id": "f7319468",
   "metadata": {},
   "outputs": [],
   "source": [
    "memory += [{\"role\": \"user\", \"content\": prompt}]\n",
    "response = prompt_LLM(memory)\n",
    "memory += [{\"role\": \"assistant\", \"content\": response}]\n",
    "\n",
    "print(pretty_parse(memory))"
   ]
  },
  {
   "cell_type": "markdown",
   "id": "527c4ba1",
   "metadata": {},
   "source": [
    "# Run interactive inference"
   ]
  },
  {
   "cell_type": "code",
   "execution_count": null,
   "id": "c7a8c2ce-3bc1-4bf6-8df1-729d90d386fb",
   "metadata": {},
   "outputs": [],
   "source": [
    "stop = False\n",
    "stop_string = \"__STOP__\"\n",
    "while not stop:\n",
    "    # Get prompt\n",
    "    prompt = input(\"User: \")\n",
    "    \n",
    "    # Check stop\n",
    "    if prompt == stop_string:\n",
    "        stop = True\n",
    "        continue\n",
    "\n",
    "    memory += [{\"role\": \"user\", \"content\": prompt}]\n",
    "\n",
    "    # show `memory`\n",
    "    clear_output(wait=True)\n",
    "    print(pretty_parse(memory))\n",
    "\n",
    "    # prompt LLM\n",
    "    response = prompt_LLM(memory)\n",
    "    memory += [{\"role\": \"assistant\", \"content\": response}]\n",
    "\n",
    "    # show `memory`\n",
    "    clear_output(wait=True)\n",
    "    print(pretty_parse(memory))\n",
    "\n",
    "    "
   ]
  },
  {
   "cell_type": "markdown",
   "id": "8440dff4",
   "metadata": {},
   "source": [
    "# Save memory to disk"
   ]
  },
  {
   "cell_type": "code",
   "execution_count": null,
   "id": "466fe068",
   "metadata": {},
   "outputs": [],
   "source": [
    "prompt = \"Summarize the topic of our conversation in four words or less.\"\n",
    "memory += [{\"role\": \"user\", \"content\": prompt}]\n",
    "response = prompt_LLM(memory)\n",
    "\n",
    "file_name = response.translate(str.maketrans('', '', string.punctuation))\n",
    "file_name = file_name.replace(' ', '_')\n",
    "file_name = out_dir_name + \"/\" + file_name\n",
    "os.makedirs(out_dir_name, exist_ok=True)\n",
    "with open(f\"{file_name}.p\", \"wb\") as fp:\n",
    "    pickle.dump(memory[:-1], fp)"
   ]
  },
  {
   "cell_type": "markdown",
   "id": "955936b3",
   "metadata": {},
   "source": [
    "# Load memory from disk"
   ]
  },
  {
   "cell_type": "code",
   "execution_count": null,
   "id": "1eb8fbbf",
   "metadata": {},
   "outputs": [],
   "source": [
    "file_name = \"Meaning_of_life\""
   ]
  },
  {
   "cell_type": "code",
   "execution_count": null,
   "id": "ffa41844",
   "metadata": {},
   "outputs": [],
   "source": [
    "file_name = out_dir_name + \"/\" + file_name\n",
    "with open(f\"{file_name}.p\", \"rb\") as fp:\n",
    "    memory = pickle.load(fp)"
   ]
  }
 ],
 "metadata": {
  "kernelspec": {
   "display_name": "Python 3 (ipykernel)",
   "language": "python",
   "name": "python3"
  },
  "language_info": {
   "codemirror_mode": {
    "name": "ipython",
    "version": 3
   },
   "file_extension": ".py",
   "mimetype": "text/x-python",
   "name": "python",
   "nbconvert_exporter": "python",
   "pygments_lexer": "ipython3",
   "version": "3.9.16"
  }
 },
 "nbformat": 4,
 "nbformat_minor": 5
}
