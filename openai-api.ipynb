{
 "cells": [
  {
   "cell_type": "markdown",
   "id": "6f525326",
   "metadata": {},
   "source": [
    "# Introduction"
   ]
  },
  {
   "cell_type": "markdown",
   "id": "934e81cd",
   "metadata": {},
   "source": [
    "- This notebook is a cookbook for how to interact with an LLM via the OpenAI `ChatCompletion` API. Note that there are other cloud LLM providers that accept this API; here we use OpenAI for our backend.\n",
    "\n",
    "- You must set your API key in the environment from which your iPython kernel was launched in order for `os.getenv()` to find it. You may not have an Org ID, that's not a problem."
   ]
  },
  {
   "cell_type": "markdown",
   "id": "43e17ff0",
   "metadata": {},
   "source": [
    "# Setup"
   ]
  },
  {
   "cell_type": "markdown",
   "id": "18ddd91a",
   "metadata": {},
   "source": [
    "## Imports"
   ]
  },
  {
   "cell_type": "code",
   "execution_count": null,
   "id": "c26291eb-9d3f-4bab-a44e-b53819d13a29",
   "metadata": {},
   "outputs": [],
   "source": [
    "import os\n",
    "import string\n",
    "import pickle\n",
    "import openai\n",
    "from IPython.display import clear_output"
   ]
  },
  {
   "cell_type": "markdown",
   "id": "ebfb1d9a-50a3-4f80-81e1-9c871fa278d0",
   "metadata": {},
   "source": [
    "## API keys"
   ]
  },
  {
   "cell_type": "code",
   "execution_count": null,
   "id": "68ce6b39-e190-41f6-a156-93fb6dcffb66",
   "metadata": {},
   "outputs": [],
   "source": [
    "openai.api_key = os.getenv(\"OPENAI_API_KEY\")\n",
    "\n",
    "# Set these as needed\n",
    "openai.organization = \"\"\n",
    "openai.api_type = \"\"\n",
    "openai.api_base = \"\"\n",
    "openai.api_version = \"\""
   ]
  },
  {
   "cell_type": "markdown",
   "id": "986bbdc6",
   "metadata": {},
   "source": [
    "## Settings"
   ]
  },
  {
   "cell_type": "code",
   "execution_count": null,
   "id": "c5ce20b6",
   "metadata": {},
   "outputs": [],
   "source": [
    "model = \"gpt4\" # Depending on your api settings, this may be either 'gpt-4' or 'gpt4'\n",
    "temperature = 1.0\n",
    "out_dir_name = \"output\""
   ]
  },
  {
   "cell_type": "markdown",
   "id": "6cfc87df-7c45-402f-9594-60a415988a6a",
   "metadata": {},
   "source": [
    "## Preamble"
   ]
  },
  {
   "cell_type": "markdown",
   "id": "a7e2b64c",
   "metadata": {},
   "source": [
    "The 'system prompt' provides instructions to the LLM on how to behave. It should be specified as a dictionary inside a single-element list, e.g.,\n",
    "\n",
    "`[{'role': 'system', 'content': 'You are BaseballGPT, an irritable knower of all things baseball.'}]`\n",
    "\n",
    "Only a single system prompt can be provided."
   ]
  },
  {
   "cell_type": "code",
   "execution_count": null,
   "id": "54898a86-5cc4-4ff5-86bf-66f5a01c7a11",
   "metadata": {},
   "outputs": [],
   "source": [
    "sys_prompt = []"
   ]
  },
  {
   "cell_type": "markdown",
   "id": "d120089d",
   "metadata": {},
   "source": [
    "The 'example interactions' provide the best form of instruction to the LLM, namely examples of how you would like it to behave. It should be specified as a list of dictionaries, e.g.,\n",
    "\n",
    "`[{'role': 'user', 'content': 'Who was Babe Ruth?'}, {'role': 'assistant', 'content': 'An incredible baseball player. Or maybe you're talking about the chocolate bar?'}]`\n",
    "\n",
    "You can add as many interactions as you'd like, provided you don't run out of 'context' for your prompt later."
   ]
  },
  {
   "cell_type": "code",
   "execution_count": null,
   "id": "f2b6e618-7d84-4ce2-8430-1c3d9ffbe3e9",
   "metadata": {},
   "outputs": [],
   "source": [
    "example_interactions = []"
   ]
  },
  {
   "cell_type": "markdown",
   "id": "9efbe1c1",
   "metadata": {},
   "source": [
    "## Set up memory"
   ]
  },
  {
   "cell_type": "markdown",
   "id": "d4b6294f",
   "metadata": {},
   "source": [
    "'Memory' in this case is a running log of 'who said what' in the conversation"
   ]
  },
  {
   "cell_type": "code",
   "execution_count": null,
   "id": "1017999d",
   "metadata": {},
   "outputs": [],
   "source": [
    "memory = []\n",
    "memory += sys_prompt\n",
    "memory += example_interactions"
   ]
  },
  {
   "cell_type": "markdown",
   "id": "0299a383",
   "metadata": {},
   "source": [
    "# Utility functions"
   ]
  },
  {
   "cell_type": "code",
   "execution_count": null,
   "id": "cfcb8bd7",
   "metadata": {},
   "outputs": [],
   "source": [
    "def pretty_parse(memory_: list)-> str:\n",
    "    \"\"\"Parse the ChatCompletion API output and return it in a usefully formatted way.\n",
    "    \n",
    "        params:\n",
    "            memory_: the `memory` list of dicts\n",
    "            \n",
    "        returns:\n",
    "            a formatted string\"\"\"\n",
    "\n",
    "    out_string = \"\"\n",
    "    for turn in memory_:\n",
    "        out_string += f\"{turn['role'].capitalize()}: {turn['content']}\\n\\n\"\n",
    "    return out_string"
   ]
  },
  {
   "cell_type": "code",
   "execution_count": null,
   "id": "45a10302",
   "metadata": {},
   "outputs": [],
   "source": [
    "def prompt_LLM(memory_: list) -> str:\n",
    "    \"\"\"Send the running memory (which includes an unanswered prompt) to the LLM via an API call and return the response.\n",
    "    \n",
    "        params:\n",
    "            memory_: the `memory` list of dicts\n",
    "            \n",
    "        returns:\n",
    "            the text of the LLM response\"\"\"\n",
    "\n",
    "    raw_response_ = openai.ChatCompletion.create(\n",
    "        # model=model, # depending on your API version, either 'engine' or 'model'\n",
    "        engine=model,\n",
    "        messages=memory_,\n",
    "        temperature=temperature\n",
    "        )\n",
    "    response_ = raw_response_[\"choices\"][0][\"message\"][\"content\"]\n",
    "    return response_"
   ]
  },
  {
   "cell_type": "markdown",
   "id": "abbe84b3",
   "metadata": {},
   "source": [
    "# Run inference"
   ]
  },
  {
   "cell_type": "code",
   "execution_count": null,
   "id": "0961b3f8",
   "metadata": {},
   "outputs": [],
   "source": [
    "prompt = \"Who let the dogs out?\" # Type out the user prompt here"
   ]
  },
  {
   "cell_type": "code",
   "execution_count": null,
   "id": "f7319468",
   "metadata": {},
   "outputs": [],
   "source": [
    "memory += [{\"role\": \"user\", \"content\": prompt}]\n",
    "response = prompt_LLM(memory)\n",
    "memory += [{\"role\": \"assistant\", \"content\": response}]\n",
    "\n",
    "print(pretty_parse(memory))"
   ]
  },
  {
   "cell_type": "markdown",
   "id": "527c4ba1",
   "metadata": {},
   "source": [
    "# Run interactive inference"
   ]
  },
  {
   "cell_type": "code",
   "execution_count": null,
   "id": "c7a8c2ce-3bc1-4bf6-8df1-729d90d386fb",
   "metadata": {},
   "outputs": [],
   "source": [
    "stop = False\n",
    "stop_string = \"__STOP__\"\n",
    "while not stop:\n",
    "    # Get prompt\n",
    "    prompt = input(\"User: \")\n",
    "    \n",
    "    # Check stop\n",
    "    if prompt == stop_string:\n",
    "        stop = True\n",
    "        continue\n",
    "\n",
    "    memory += [{\"role\": \"user\", \"content\": prompt}]\n",
    "\n",
    "    # show `memory`\n",
    "    clear_output(wait=True)\n",
    "    print(pretty_parse(memory))\n",
    "\n",
    "    # prompt LLM\n",
    "    response = prompt_LLM(memory)\n",
    "    memory += [{\"role\": \"assistant\", \"content\": response}]\n",
    "\n",
    "    # show `memory`\n",
    "    clear_output(wait=True)\n",
    "    print(pretty_parse(memory))\n",
    "\n",
    "    "
   ]
  },
  {
   "cell_type": "markdown",
   "id": "8440dff4",
   "metadata": {},
   "source": [
    "# Save memory to disk"
   ]
  },
  {
   "cell_type": "code",
   "execution_count": null,
   "id": "466fe068",
   "metadata": {},
   "outputs": [],
   "source": [
    "prompt = \"Summarize the topic of our conversation in four words or less.\"\n",
    "memory += [{\"role\": \"user\", \"content\": prompt}]\n",
    "response = prompt_LLM(memory)\n",
    "\n",
    "file_name = response.translate(str.maketrans('', '', string.punctuation))\n",
    "file_name = file_name.replace(' ', '_')\n",
    "file_name = out_dir_name + \"/\" + file_name\n",
    "os.makedirs(out_dir_name, exist_ok=True)\n",
    "with open(f\"{file_name}.p\", \"wb\") as fp:\n",
    "    pickle.dump(memory[:-1], fp)"
   ]
  },
  {
   "cell_type": "markdown",
   "id": "955936b3",
   "metadata": {},
   "source": [
    "# Load memory from disk"
   ]
  },
  {
   "cell_type": "code",
   "execution_count": null,
   "id": "1eb8fbbf",
   "metadata": {},
   "outputs": [],
   "source": [
    "file_name = \"\" # Specify the file name to load"
   ]
  },
  {
   "cell_type": "code",
   "execution_count": null,
   "id": "ffa41844",
   "metadata": {},
   "outputs": [],
   "source": [
    "file_name = out_dir_name + \"/\" + file_name\n",
    "with open(f\"{file_name}.p\", \"rb\") as fp:\n",
    "    memory = pickle.load(fp)"
   ]
  }
 ],
 "metadata": {
  "kernelspec": {
   "display_name": "Python 3 (ipykernel)",
   "language": "python",
   "name": "python3"
  },
  "language_info": {
   "codemirror_mode": {
    "name": "ipython",
    "version": 3
   },
   "file_extension": ".py",
   "mimetype": "text/x-python",
   "name": "python",
   "nbconvert_exporter": "python",
   "pygments_lexer": "ipython3",
   "version": "3.9.16"
  }
 },
 "nbformat": 4,
 "nbformat_minor": 5
}
